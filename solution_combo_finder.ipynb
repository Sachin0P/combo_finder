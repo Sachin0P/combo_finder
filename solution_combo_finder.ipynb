{
  "nbformat": 4,
  "nbformat_minor": 0,
  "metadata": {
    "colab": {
      "provenance": [],
      "authorship_tag": "ABX9TyMHa67UqIT3r/r4cycrEuoO",
      "include_colab_link": true
    },
    "kernelspec": {
      "name": "python3",
      "display_name": "Python 3"
    },
    "language_info": {
      "name": "python"
    }
  },
  "cells": [
    {
      "cell_type": "markdown",
      "metadata": {
        "id": "view-in-github",
        "colab_type": "text"
      },
      "source": [
        "<a href=\"https://colab.research.google.com/github/Sachin0P/combo_finder/blob/main/solution_combo_finder.ipynb\" target=\"_parent\"><img src=\"https://colab.research.google.com/assets/colab-badge.svg\" alt=\"Open In Colab\"/></a>"
      ]
    },
    {
      "cell_type": "code",
      "source": [
        "import random as r\n",
        "D = {'p1':10, 'p2':15, 'p3':20, 'p4':25, 'p5':30, 'p6':35, 'p7':50,\n",
        "               'p8':40, 'p9':55, 'p10':60, 'p11':65, 'p12':75, 'p13':70,\n",
        "               'p14':45}\n",
        "\n",
        "for i in range(0,1000):\n",
        "  c=r.randint(1,len(list(D.values())))\n",
        "  A=r.sample(list(D.keys()),c)\n",
        "  a=0\n",
        "  for i in A:\n",
        "    a=a+D[i]\n",
        "  if 290<=a<=310:\n",
        "    print(A)\n",
        "\n",
        "\n"
      ],
      "metadata": {
        "colab": {
          "base_uri": "https://localhost:8080/"
        },
        "id": "-PYa7QVFYRqg",
        "outputId": "3fa74145-7051-41b7-a292-06a2b572aa66"
      },
      "execution_count": 9,
      "outputs": [
        {
          "output_type": "stream",
          "name": "stdout",
          "text": [
            "['p13', 'p2', 'p4', 'p14', 'p7', 'p1', 'p6', 'p10']\n",
            "['p13', 'p8', 'p2', 'p7', 'p4', 'p9', 'p6']\n",
            "['p11', 'p6', 'p13', 'p14', 'p4', 'p10']\n",
            "['p13', 'p5', 'p10', 'p12', 'p8', 'p3']\n",
            "['p2', 'p4', 'p14', 'p8', 'p6', 'p13', 'p10', 'p3']\n",
            "['p7', 'p10', 'p5', 'p14', 'p2', 'p4', 'p11']\n",
            "['p7', 'p12', 'p14', 'p1', 'p5', 'p6', 'p8', 'p4']\n",
            "['p2', 'p6', 'p14', 'p10', 'p13', 'p12']\n",
            "['p10', 'p5', 'p4', 'p12', 'p2', 'p9', 'p7']\n",
            "['p3', 'p5', 'p9', 'p7', 'p13', 'p14', 'p4', 'p2']\n",
            "['p11', 'p4', 'p6', 'p3', 'p1', 'p7', 'p14', 'p8']\n",
            "['p10', 'p3', 'p8', 'p5', 'p11', 'p7', 'p14']\n",
            "['p8', 'p3', 'p2', 'p14', 'p5', 'p9', 'p4', 'p12']\n",
            "['p2', 'p9', 'p8', 'p3', 'p7', 'p13', 'p10']\n",
            "['p13', 'p12', 'p14', 'p6', 'p10', 'p3']\n",
            "['p12', 'p1', 'p7', 'p8', 'p3', 'p6', 'p14', 'p2']\n",
            "['p12', 'p10', 'p9', 'p6', 'p13', 'p1']\n",
            "['p2', 'p9', 'p11', 'p1', 'p14', 'p10', 'p8', 'p3']\n",
            "['p14', 'p6', 'p11', 'p7', 'p13', 'p1', 'p4']\n",
            "['p13', 'p7', 'p1', 'p4', 'p8', 'p11', 'p2', 'p5']\n",
            "['p8', 'p11', 'p13', 'p1', 'p7', 'p2', 'p9']\n",
            "['p14', 'p12', 'p9', 'p8', 'p11', 'p3']\n",
            "['p14', 'p5', 'p13', 'p12', 'p7', 'p4']\n",
            "['p9', 'p1', 'p8', 'p14', 'p12', 'p11']\n",
            "['p11', 'p8', 'p9', 'p13', 'p10']\n",
            "['p1', 'p2', 'p4', 'p13', 'p11', 'p7', 'p6', 'p3']\n",
            "['p9', 'p1', 'p4', 'p3', 'p8', 'p13', 'p12']\n",
            "['p3', 'p2', 'p4', 'p12', 'p7', 'p1', 'p13', 'p6']\n",
            "['p11', 'p10', 'p13', 'p6', 'p4', 'p7']\n",
            "['p12', 'p5', 'p2', 'p14', 'p6', 'p10', 'p8']\n",
            "['p14', 'p6', 'p10', 'p2', 'p5', 'p12', 'p1', 'p4']\n",
            "['p1', 'p5', 'p2', 'p13', 'p10', 'p11', 'p3', 'p8']\n"
          ]
        }
      ]
    }
  ]
}